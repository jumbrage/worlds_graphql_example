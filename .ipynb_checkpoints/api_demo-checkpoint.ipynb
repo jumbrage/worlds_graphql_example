{
 "cells": [
  {
   "cell_type": "markdown",
   "id": "18572159",
   "metadata": {},
   "source": [
    "# GraphQL API Exploration\n",
    "This notebook demonstrates how to interact with a GraphQL API using Python. We will break down the code into sections and explain each part."
   ]
  },
  {
   "cell_type": "markdown",
   "id": "aaabb67c",
   "metadata": {},
   "source": [
    "## Import Libraries\n",
    "First, we need to import the necessary libraries: `requests` for making HTTP requests and `json` for handling JSON data."
   ]
  },
  {
   "cell_type": "code",
   "execution_count": null,
   "id": "import_libraries",
   "metadata": {},
   "outputs": [],
   "source": [
    "import requests\n",
    "import json\n"
   ]
  },
  {
   "cell_type": "markdown",
   "id": "4a8ab042",
   "metadata": {},
   "source": [
    "## Define the GraphQL Endpoint\n",
    "Next, we specify the URL of the GraphQL endpoint to which we will send our queries."
   ]
  },
  {
   "cell_type": "code",
   "execution_count": null,
   "id": "define_endpoint",
   "metadata": {},
   "outputs": [],
   "source": [
    "# Define the GraphQL endpoint\n",
    "endpoint = 'https://developer.chevron.worlds.io/api/graphql'\n"
   ]
  },
  {
   "cell_type": "markdown",
   "id": "528679fd",
   "metadata": {},
   "source": [
    "## Define the Headers\n",
    "We need to include authentication tokens in our headers. Replace `'your-token-id'` and `'your-token-value'` with your actual tokens."
   ]
  },
  {
   "cell_type": "code",
   "execution_count": null,
   "id": "define_headers",
   "metadata": {},
   "outputs": [],
   "source": [
    "# Define the headers with x-token-id and x-token-value\n",
    "headers = {\n",
    "    'Content-Type': 'application/json',\n",
    "    'x-token-id': '',\n",
    "    'x-token-value': ''\n",
    "}\n"
   ]
  },
  {
   "cell_type": "markdown",
   "id": "a783cc99",
   "metadata": {},
   "source": [
    "## Define the GraphQL Query\n",
    "This section contains the GraphQL query we want to execute. It retrieves track data filtered by time and device ID. We use placeholders for dynamic values such as `$first`, `$startTime`, `$endTime`, and `$after`."
   ]
  },
  {
   "cell_type": "code",
   "execution_count": null,
   "id": "define_query",
   "metadata": {},
   "outputs": [],
   "source": [
    "# Define the GraphQL query\n",
    "query = '''\n",
    "query GetTracks($first: Int!, $startTime: DateTimeOffset!, $endTime: DateTimeOffset!, $after: String) {\n",
    "  tracks(\n",
    "    filter: {\n",
    "      time: {\n",
    "        between: [$startTime, $endTime]\n",
    "      }\n",
    "      deviceId:{\n",
    "      eq: \"4\"\n",
    "      }\n",
    "    },\n",
    "    first: $first,\n",
    "    after: $after\n",
    "  ) {\n",
    "    edges {\n",
    "      node {\n",
    "        id\n",
    "        tag\n",
    "        startTime\n",
    "        endTime\n",
    "        properties{\n",
    "        vector\n",
    "        motion\n",
    "        identity\n",
    "        }\n",
    "        metadata\n",
    "      }\n",
    "    }\n",
    "    pageInfo {\n",
    "      hasNextPage\n",
    "      endCursor\n",
    "    }\n",
    "  }\n",
    "}\n",
    "'''\n"
   ]
  },
  {
   "cell_type": "markdown",
   "id": "b8db8a5c",
   "metadata": {},
   "source": [
    "## Define the Query Variables\n",
    "Set the values for the variables used in the query. This includes specifying the number of results to fetch (`first`), the start and end times (`startTime` and `endTime`), and the cursor for pagination (`after`)."
   ]
  },
  {
   "cell_type": "code",
   "execution_count": null,
   "id": "define_variables",
   "metadata": {},
   "outputs": [],
   "source": [
    "# Define the variables for the query\n",
    "variables = {\n",
    "    'first': 300,\n",
    "    'startTime': '2024-01-01T00:00:00Z',\n",
    "    'endTime': '2024-08-10T00:00:00Z',\n",
    "    'after': None  # Start with None, meaning the first page\n",
    "}\n"
   ]
  },
  {
   "cell_type": "markdown",
   "id": "7115d20d",
   "metadata": {},
   "source": [
    "## Create the Payload\n",
    "Combine the query and variables into a payload that will be sent in the request body."
   ]
  },
  {
   "cell_type": "code",
   "execution_count": null,
   "id": "create_payload",
   "metadata": {},
   "outputs": [],
   "source": [
    "# Create the payload\n",
    "payload = {\n",
    "    'query': query,\n",
    "    'variables': variables\n",
    "}\n"
   ]
  },
  {
   "cell_type": "markdown",
   "id": "f5456e8b",
   "metadata": {},
   "source": [
    "## Send the Request\n",
    "Finally, send the POST request to the GraphQL endpoint with the defined headers and payload. Handle the response and print the JSON data for inspection."
   ]
  },
  {
   "cell_type": "code",
   "execution_count": null,
   "id": "send_request",
   "metadata": {},
   "outputs": [],
   "source": [
    "# Send the request\n",
    "response = requests.post(endpoint, headers=headers, json=payload)\n",
    "data = response.json()\n",
    "print(json.dumps(data, indent=2))\n"
   ]
  },
  {
   "cell_type": "code",
   "execution_count": null,
   "id": "74a8f419-774f-4657-b343-1f9a1b83b357",
   "metadata": {},
   "outputs": [],
   "source": []
  },
  {
   "cell_type": "markdown",
   "id": "e892ef18",
   "metadata": {},
   "source": [
    "## Load Results into Pandas DataFrame\n",
    "We can use Pandas to organize and analyze the data we retrieved from the API. First, we need to install Pandas if it's not already installed. Then, we will load the data into a DataFrame and perform basic data inspection."
   ]
  },
  {
   "cell_type": "code",
   "execution_count": null,
   "id": "ad9095d6-920b-4437-8b8f-a896c97bb47d",
   "metadata": {},
   "outputs": [],
   "source": [
    "import sys\n",
    "print(sys.executable)\n"
   ]
  },
  {
   "cell_type": "code",
   "execution_count": null,
   "id": "b4dd1100-3542-460f-9d1b-54baa606dae7",
   "metadata": {},
   "outputs": [],
   "source": [
    "import pandas"
   ]
  },
  {
   "cell_type": "code",
   "execution_count": null,
   "id": "load_pandas",
   "metadata": {},
   "outputs": [],
   "source": [
    "# Install pandas if necessary\n",
    "\n",
    "import pandas as pd\n",
    "\n",
    "# Extract the relevant data from the API response\n",
    "tracks = data.get('data', {}).get('tracks', {}).get('edges', [])\n",
    "\n",
    "# Flatten the data into a list of dictionaries\n",
    "flattened_tracks = [edge['node'] for edge in tracks]\n",
    "\n",
    "# Create a DataFrame\n",
    "df = pd.DataFrame(flattened_tracks)\n",
    "\n",
    "# Display the first few rows of the DataFrame\n",
    "df.head()\n"
   ]
  },
  {
   "cell_type": "markdown",
   "id": "f07927f8",
   "metadata": {},
   "source": [
    "## Summary\n",
    "In this notebook, we demonstrated how to interact with a GraphQL API using Python. We covered importing libraries, defining the GraphQL endpoint, setting up headers, writing queries, defining variables, creating the payload, sending the request, and loading the results into a Pandas DataFrame. You can now adapt this example to your own use cases and integrate it into your applications."
   ]
  },
  {
   "cell_type": "code",
   "execution_count": null,
   "id": "c92de28b-755e-4e38-ab41-f7a629554279",
   "metadata": {},
   "outputs": [],
   "source": []
  },
  {
   "cell_type": "code",
   "execution_count": null,
   "id": "c7a00981-5070-40a5-ba69-015ad3ebabd4",
   "metadata": {},
   "outputs": [],
   "source": []
  }
 ],
 "metadata": {
  "kernelspec": {
   "display_name": "Python 3 (ipykernel)",
   "language": "python",
   "name": "python3"
  },
  "language_info": {
   "codemirror_mode": {
    "name": "ipython",
    "version": 3
   },
   "file_extension": ".py",
   "mimetype": "text/x-python",
   "name": "python",
   "nbconvert_exporter": "python",
   "pygments_lexer": "ipython3",
   "version": "3.12.4"
  }
 },
 "nbformat": 4,
 "nbformat_minor": 5
}
